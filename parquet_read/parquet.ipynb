{
 "cells": [
  {
   "cell_type": "code",
   "execution_count": 3,
   "metadata": {
    "vscode": {
     "languageId": "rust"
    }
   },
   "outputs": [],
   "source": [
    ":dep polars = {version = \"0.44.1\" , features = [\"csv\",\"parquet\",\"lazy\"]}"
   ]
  },
  {
   "cell_type": "code",
   "execution_count": 10,
   "metadata": {
    "vscode": {
     "languageId": "rust"
    }
   },
   "outputs": [],
   "source": [
    "use polars::prelude::*;\n",
    "\n",
    "let mut file = std::fs::File::open(r\"E:\\Reading_in_rust\\parquet_read\\example.parquet\").unwrap();\n",
    "\n",
    "let mut df = ParquetReader::new(&mut file).finish().unwrap();"
   ]
  },
  {
   "cell_type": "code",
   "execution_count": 8,
   "metadata": {
    "vscode": {
     "languageId": "rust"
    }
   },
   "outputs": [
    {
     "data": {
      "text/plain": [
       "shape: (1, 23)\n",
       "┌───────────┬──────────┬───────────┬───────────┬───┬───────────┬───────────┬───────────┬───────────┐\n",
       "│ EMPLOYEE_ ┆ WORKER   ┆ JOB_TITLE ┆ HIRE_DATE ┆ … ┆ BANK_NAME ┆ ACCOUNT_T ┆ ROUTING_N ┆ ACCOUNT_N │\n",
       "│ ID        ┆ ---      ┆ ---       ┆ ---       ┆   ┆ ---       ┆ YPE       ┆ UMBER     ┆ UMBER     │\n",
       "│ ---       ┆ str      ┆ str       ┆ str       ┆   ┆ str       ┆ ---       ┆ ---       ┆ ---       │\n",
       "│ str       ┆          ┆           ┆           ┆   ┆           ┆ str       ┆ str       ┆ str       │\n",
       "╞═══════════╪══════════╪═══════════╪═══════════╪═══╪═══════════╪═══════════╪═══════════╪═══════════╡\n",
       "│ 019999    ┆ Jane Doe ┆ Specialis ┆ 2022-10-0 ┆ … ┆ Bank of   ┆ Checking  ┆ 111111111 ┆ 222222222 │\n",
       "│           ┆          ┆ t         ┆ 1         ┆   ┆ America   ┆           ┆           ┆ 2         │\n",
       "└───────────┴──────────┴───────────┴───────────┴───┴───────────┴───────────┴───────────┴───────────┘"
      ]
     },
     "execution_count": 8,
     "metadata": {},
     "output_type": "execute_result"
    }
   ],
   "source": [
    "df"
   ]
  },
  {
   "cell_type": "code",
   "execution_count": 13,
   "metadata": {
    "vscode": {
     "languageId": "rust"
    }
   },
   "outputs": [],
   "source": [
    "use std::fs::File;\n",
    "let mut file = std::fs::File::create(r\"E:\\Reading_in_rust\\parquet_read\\output.csv\").unwrap();\n",
    "CsvWriter::new(&mut file).finish(&mut df).unwrap();"
   ]
  }
 ],
 "metadata": {
  "kernelspec": {
   "display_name": "Rust",
   "language": "rust",
   "name": "rust"
  },
  "language_info": {
   "codemirror_mode": "rust",
   "file_extension": ".rs",
   "mimetype": "text/rust",
   "name": "Rust",
   "pygment_lexer": "rust",
   "version": ""
  }
 },
 "nbformat": 4,
 "nbformat_minor": 2
}
