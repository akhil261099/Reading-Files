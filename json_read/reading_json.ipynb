{
 "cells": [
  {
   "cell_type": "code",
   "execution_count": 2,
   "metadata": {
    "vscode": {
     "languageId": "rust"
    }
   },
   "outputs": [],
   "source": [
    ":dep serde = { version = \"1.0\", features = [\"derive\"] }\n",
    ":dep serde_json = \"1.0\"\n",
    ":dep csv = \"1.1\""
   ]
  },
  {
   "cell_type": "code",
   "execution_count": 5,
   "metadata": {
    "vscode": {
     "languageId": "rust"
    }
   },
   "outputs": [],
   "source": [
    "use serde_json::Value;\n",
    "use std::error::Error;\n",
    "use std::fs::File;\n",
    "use csv::Writer;\n",
    "\n",
    "fn main() -> Result<(), Box<dyn Error>> {\n",
    "    // Read the JSON file\n",
    "    let file = File::open(\"input.json\")?;  // Open the file\n",
    "    let json_data: Value = serde_json::from_reader(file)?;  // Deserialize JSON\n",
    "\n",
    "\n",
    "    // Create a CSV writer\n",
    "    let mut wtr = Writer::from_writer(File::create(\"output.csv\")?);\n",
    "\n",
    "    // Check if the JSON is an array of objects (rows)\n",
    "    if let Value::Array(records) = json_data {\n",
    "        if records.is_empty() {\n",
    "            return Err(\"JSON data is empty.\".into());\n",
    "        }\n",
    "\n",
    "        // Extract headers from the first record (keys of the first JSON object)\n",
    "        if let Value::Object(first_record) = &records[0] {\n",
    "            // Write headers (keys)\n",
    "            let headers: Vec<String> = first_record.keys().cloned().collect();\n",
    "            wtr.write_record(&headers)?;\n",
    "\n",
    "\n",
    "            // Write data for each record\n",
    "            for record in records {\n",
    "                // println!(\"Record: {:?}\",record);\n",
    "                if let Value::Object(record_obj) = record {\n",
    "                    // Map through headers and extract the corresponding values\n",
    "                    let row: Vec<String> = headers.iter()\n",
    "                        .map(|key| {\n",
    "                            // Check if the key exists, and if it does, get its value as a string\n",
    "                            record_obj.get(key)\n",
    "                                .and_then(|v| v.as_str())\n",
    "                                .unwrap_or(\"\")  // If the value is missing, use an empty string\n",
    "                                .to_string()\n",
    "                        })\n",
    "                        .collect();\n",
    "                    // Write the row to the CSV\n",
    "                    wtr.write_record(row)?;\n",
    "                }\n",
    "            }\n",
    "        }\n",
    "    }\n",
    "\n",
    "    // Flush and finalize the CSV writing\n",
    "    wtr.flush()?;\n",
    "    println!(\"CSV writing complete.\");\n",
    "    Ok(())\n",
    "}\n"
   ]
  },
  {
   "cell_type": "code",
   "execution_count": 6,
   "metadata": {
    "vscode": {
     "languageId": "rust"
    }
   },
   "outputs": [
    {
     "name": "stdout",
     "output_type": "stream",
     "text": [
      "CSV writing complete.\n"
     ]
    },
    {
     "data": {
      "text/plain": [
       "Ok(())"
      ]
     },
     "execution_count": 6,
     "metadata": {},
     "output_type": "execute_result"
    }
   ],
   "source": [
    "main()"
   ]
  }
 ],
 "metadata": {
  "kernelspec": {
   "display_name": "Rust",
   "language": "rust",
   "name": "rust"
  },
  "language_info": {
   "codemirror_mode": "rust",
   "file_extension": ".rs",
   "mimetype": "text/rust",
   "name": "Rust",
   "pygment_lexer": "rust",
   "version": ""
  }
 },
 "nbformat": 4,
 "nbformat_minor": 2
}
